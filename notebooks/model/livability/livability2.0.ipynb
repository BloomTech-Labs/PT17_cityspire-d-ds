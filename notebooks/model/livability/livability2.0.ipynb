{
 "metadata": {
  "language_info": {
   "codemirror_mode": {
    "name": "ipython",
    "version": 3
   },
   "file_extension": ".py",
   "mimetype": "text/x-python",
   "name": "python",
   "nbconvert_exporter": "python",
   "pygments_lexer": "ipython3",
   "version": "3.8.3-final"
  },
  "orig_nbformat": 2,
  "kernelspec": {
   "name": "python3",
   "display_name": "Python 3.8.3 64-bit ('Python': virtualenv)",
   "metadata": {
    "interpreter": {
     "hash": "c4e1a2703ad1e771c82b84a8f88a753fb706f41d94fcd9ee3348ba5d0f45dba1"
    }
   }
  }
 },
 "nbformat": 4,
 "nbformat_minor": 2,
 "cells": [
  {
   "cell_type": "code",
   "execution_count": 23,
   "metadata": {},
   "outputs": [],
   "source": [
    "from sqlalchemy import create_engine\n",
    "from dotenv import load_dotenv\n",
    "import os\n",
    "import pandas as pd\n",
    "import psycopg2"
   ]
  },
  {
   "cell_type": "code",
   "execution_count": 11,
   "metadata": {},
   "outputs": [],
   "source": [
    "load_dotenv()\n",
    "db = os.getenv('DATABASE_URL')"
   ]
  },
  {
   "cell_type": "code",
   "execution_count": 19,
   "metadata": {},
   "outputs": [],
   "source": [
    "df3 = pd.read_csv('https://raw.githubusercontent.com/Lambda-School-Labs/PT17_cityspire-d-ds/main/notebooks/datasets/datasets_to_merge/updated/final.csv')"
   ]
  },
  {
   "cell_type": "code",
   "execution_count": 20,
   "metadata": {},
   "outputs": [
    {
     "output_type": "execute_result",
     "data": {
      "text/plain": [
       "Index(['City', 'State', 'TotalPop', 'Men', 'Women', 'Hispanic', 'White',\n",
       "       'Black', 'Native', 'Asian', 'Pacific', 'Income', 'IncomeErr',\n",
       "       'IncomePerCap', 'IncomePerCapErr', 'Poverty', 'ChildPoverty',\n",
       "       'Employed', 'Unemployment', 'PrivateWork', 'PublicWork', 'SelfEmployed',\n",
       "       'FamilyWork', 'Professional', 'Service', 'Office', 'Construction',\n",
       "       'Production', 'Drive', 'Carpool', 'Transit', 'Walk', 'OtherTransp',\n",
       "       'WorkAtHome', 'MeanCommute', 'Rent', 'Year', 'Population',\n",
       "       'Violent crime', 'Murder and nonnegligent manslaughter', 'Rape',\n",
       "       'Robbery', 'Aggravated assault', 'Property crime', 'Burglary',\n",
       "       'Larceny- theft', 'Motor vehicle theft', 'Arson', 'Crime Rate per 1000',\n",
       "       'Crime Rating', 'Days with AQI', 'Good Days', 'Moderate Days',\n",
       "       'Unhealthy for Sensitive Groups Days', 'Unhealthy Days',\n",
       "       'Very Unhealthy Days', 'Hazardous Days', 'Max AQI',\n",
       "       '90th Percentile AQI', 'Median AQI', 'Days CO', 'Days NO2',\n",
       "       'Days Ozone', 'Days SO2', 'Days PM2.5', 'Days PM10',\n",
       "       'Air Quality Index', 'Diversity Index', 'Nearest', 'lat', 'lon'],\n",
       "      dtype='object')"
      ]
     },
     "metadata": {},
     "execution_count": 20
    }
   ],
   "source": [
    "df3 = df3.rename({'Crime Rate (per 1000 residents)': 'Crime Rate per 1000'}, axis=1)\n",
    "df3.columns\n"
   ]
  },
  {
   "cell_type": "code",
   "execution_count": 24,
   "metadata": {},
   "outputs": [],
   "source": [
    "engine = create_engine(db)"
   ]
  },
  {
   "cell_type": "code",
   "execution_count": 25,
   "metadata": {},
   "outputs": [],
   "source": [
    "df3.to_sql('data', con=db, if_exists='replace')"
   ]
  },
  {
   "cell_type": "code",
   "execution_count": 26,
   "metadata": {},
   "outputs": [
    {
     "output_type": "execute_result",
     "data": {
      "text/plain": [
       "0      203\n",
       "1      182\n",
       "2      240\n",
       "3      161\n",
       "4      101\n",
       "      ... \n",
       "392    206\n",
       "393    152\n",
       "394    209\n",
       "395    162\n",
       "396    206\n",
       "Name: Good Days, Length: 397, dtype: int64"
      ]
     },
     "metadata": {},
     "execution_count": 26
    }
   ],
   "source": [
    "df3['Good Days']"
   ]
  },
  {
   "cell_type": "code",
   "execution_count": 49,
   "metadata": {},
   "outputs": [],
   "source": [
    "livability = df3[['City', 'State', 'Rent', 'Good Days', 'Crime Rate per 1000',\n",
    "                  'Violent crime', 'Poverty', 'IncomePerCap', 'Diversity Index']]"
   ]
  },
  {
   "cell_type": "code",
   "execution_count": 50,
   "metadata": {},
   "outputs": [
    {
     "output_type": "stream",
     "name": "stderr",
     "text": [
      "<ipython-input-50-74478855304b>:1: SettingWithCopyWarning: \nA value is trying to be set on a copy of a slice from a DataFrame.\nTry using .loc[row_indexer,col_indexer] = value instead\n\nSee the caveats in the documentation: https://pandas.pydata.org/pandas-docs/stable/user_guide/indexing.html#returning-a-view-versus-a-copy\n  livability['Rent'] = livability['Rent'] * -1\n"
     ]
    }
   ],
   "source": [
    "livability['Rent'] = livability['Rent'] * -1"
   ]
  },
  {
   "cell_type": "code",
   "execution_count": 33,
   "metadata": {},
   "outputs": [
    {
     "output_type": "stream",
     "name": "stderr",
     "text": [
      "<ipython-input-33-697cf28ac8d0>:1: SettingWithCopyWarning: \nA value is trying to be set on a copy of a slice from a DataFrame.\nTry using .loc[row_indexer,col_indexer] = value instead\n\nSee the caveats in the documentation: https://pandas.pydata.org/pandas-docs/stable/user_guide/indexing.html#returning-a-view-versus-a-copy\n  livability['Crime Rate per 1000'] = livability['Crime Rate per 1000'] * -1\n"
     ]
    }
   ],
   "source": [
    "livability['Crime Rate per 1000'] = livability['Crime Rate per 1000'] * -1"
   ]
  },
  {
   "cell_type": "code",
   "execution_count": 34,
   "metadata": {},
   "outputs": [
    {
     "output_type": "execute_result",
     "data": {
      "text/plain": [
       "            City State  Rent  Good Days  Crime Rate per 1000\n",
       "0          Akron    OH  -911        203               -42.20\n",
       "1         Albany    GA  -814        182               -56.57\n",
       "2         Albany    NY -1205        240               -37.59\n",
       "3         Albany    OR -1197        161               -27.95\n",
       "4    Albuquerque    NM -1013        101               -59.89\n",
       "..           ...   ...   ...        ...                  ...\n",
       "392    Worcester    MA -1552        206               -26.80\n",
       "393      Wyoming    MI -1059        152               -19.53\n",
       "394       Yakima    WA -1108        209               -33.38\n",
       "395    Yuba City    CA -1206        162               -30.73\n",
       "396         Yuma    AZ  -991        206               -27.11\n",
       "\n",
       "[397 rows x 5 columns]"
      ],
      "text/html": "<div>\n<style scoped>\n    .dataframe tbody tr th:only-of-type {\n        vertical-align: middle;\n    }\n\n    .dataframe tbody tr th {\n        vertical-align: top;\n    }\n\n    .dataframe thead th {\n        text-align: right;\n    }\n</style>\n<table border=\"1\" class=\"dataframe\">\n  <thead>\n    <tr style=\"text-align: right;\">\n      <th></th>\n      <th>City</th>\n      <th>State</th>\n      <th>Rent</th>\n      <th>Good Days</th>\n      <th>Crime Rate per 1000</th>\n    </tr>\n  </thead>\n  <tbody>\n    <tr>\n      <th>0</th>\n      <td>Akron</td>\n      <td>OH</td>\n      <td>-911</td>\n      <td>203</td>\n      <td>-42.20</td>\n    </tr>\n    <tr>\n      <th>1</th>\n      <td>Albany</td>\n      <td>GA</td>\n      <td>-814</td>\n      <td>182</td>\n      <td>-56.57</td>\n    </tr>\n    <tr>\n      <th>2</th>\n      <td>Albany</td>\n      <td>NY</td>\n      <td>-1205</td>\n      <td>240</td>\n      <td>-37.59</td>\n    </tr>\n    <tr>\n      <th>3</th>\n      <td>Albany</td>\n      <td>OR</td>\n      <td>-1197</td>\n      <td>161</td>\n      <td>-27.95</td>\n    </tr>\n    <tr>\n      <th>4</th>\n      <td>Albuquerque</td>\n      <td>NM</td>\n      <td>-1013</td>\n      <td>101</td>\n      <td>-59.89</td>\n    </tr>\n    <tr>\n      <th>...</th>\n      <td>...</td>\n      <td>...</td>\n      <td>...</td>\n      <td>...</td>\n      <td>...</td>\n    </tr>\n    <tr>\n      <th>392</th>\n      <td>Worcester</td>\n      <td>MA</td>\n      <td>-1552</td>\n      <td>206</td>\n      <td>-26.80</td>\n    </tr>\n    <tr>\n      <th>393</th>\n      <td>Wyoming</td>\n      <td>MI</td>\n      <td>-1059</td>\n      <td>152</td>\n      <td>-19.53</td>\n    </tr>\n    <tr>\n      <th>394</th>\n      <td>Yakima</td>\n      <td>WA</td>\n      <td>-1108</td>\n      <td>209</td>\n      <td>-33.38</td>\n    </tr>\n    <tr>\n      <th>395</th>\n      <td>Yuba City</td>\n      <td>CA</td>\n      <td>-1206</td>\n      <td>162</td>\n      <td>-30.73</td>\n    </tr>\n    <tr>\n      <th>396</th>\n      <td>Yuma</td>\n      <td>AZ</td>\n      <td>-991</td>\n      <td>206</td>\n      <td>-27.11</td>\n    </tr>\n  </tbody>\n</table>\n<p>397 rows × 5 columns</p>\n</div>"
     },
     "metadata": {},
     "execution_count": 34
    }
   ],
   "source": [
    "livability"
   ]
  },
  {
   "cell_type": "code",
   "execution_count": 35,
   "metadata": {},
   "outputs": [],
   "source": [
    "from sklearn.preprocessing import MinMaxScaler"
   ]
  },
  {
   "cell_type": "code",
   "execution_count": 36,
   "metadata": {},
   "outputs": [],
   "source": [
    "scaler = MinMaxScaler()"
   ]
  },
  {
   "cell_type": "code",
   "execution_count": 37,
   "metadata": {},
   "outputs": [
    {
     "output_type": "execute_result",
     "data": {
      "text/plain": [
       "MinMaxScaler()"
      ]
     },
     "metadata": {},
     "execution_count": 37
    }
   ],
   "source": [
    "scaler.fit(livability.drop(['City', 'State'], 1))"
   ]
  },
  {
   "cell_type": "code",
   "execution_count": 38,
   "metadata": {},
   "outputs": [
    {
     "output_type": "execute_result",
     "data": {
      "text/plain": [
       "array([[0.92781104, 0.66666667, 0.66634178],\n",
       "       [0.96007984, 0.59057971, 0.54962638],\n",
       "       [0.83000665, 0.80072464, 0.70378493],\n",
       "       ...,\n",
       "       [0.86227545, 0.6884058 , 0.73797921],\n",
       "       [0.82967399, 0.51811594, 0.75950292],\n",
       "       [0.9011976 , 0.67753623, 0.78890513]])"
      ]
     },
     "metadata": {},
     "execution_count": 38
    }
   ],
   "source": [
    "scaler.transform(livability.drop(['City', 'State'], 1))"
   ]
  },
  {
   "cell_type": "code",
   "execution_count": 39,
   "metadata": {},
   "outputs": [],
   "source": [
    "import pickle"
   ]
  },
  {
   "cell_type": "code",
   "execution_count": 45,
   "metadata": {},
   "outputs": [],
   "source": [
    "with open('C:\\\\Users\\\\Timothy Eakin\\\\CitySpire\\\\PT17_cityspire-d-ds\\\\app\\\\livability_scaler.pkl', 'wb') as f:\n",
    "    pickle.dump(scaler, f)"
   ]
  },
  {
   "cell_type": "code",
   "execution_count": 46,
   "metadata": {},
   "outputs": [],
   "source": [
    "with open('C:\\\\Users\\\\Timothy Eakin\\\\CitySpire\\\\PT17_cityspire-d-ds\\\\app\\\\livability_scaler.pkl', 'rb') as f:\n",
    "    s = pickle.load(f)"
   ]
  },
  {
   "cell_type": "code",
   "execution_count": 47,
   "metadata": {},
   "outputs": [
    {
     "output_type": "execute_result",
     "data": {
      "text/plain": [
       "array([[0.92781104, 0.66666667, 0.66634178]])"
      ]
     },
     "metadata": {},
     "execution_count": 47
    }
   ],
   "source": [
    "s.transform(livability.drop(['City', 'State'], 1).iloc[0,:].to_numpy().reshape(1, -1))"
   ]
  },
  {
   "cell_type": "code",
   "execution_count": null,
   "metadata": {},
   "outputs": [],
   "source": [
    "ds3[]"
   ]
  }
 ]
}