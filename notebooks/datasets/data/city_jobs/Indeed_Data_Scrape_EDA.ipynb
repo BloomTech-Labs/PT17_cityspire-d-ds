{
  "nbformat": 4,
  "nbformat_minor": 0,
  "metadata": {
    "colab": {
      "name": "Indeed Data Scrape EDA",
      "provenance": [],
      "collapsed_sections": [],
      "toc_visible": true
    },
    "kernelspec": {
      "name": "python3",
      "display_name": "Python 3",
      "language": "python"
    },
    "language_info": {
      "name": "python",
      "version": "3.7.6-final"
    }
  },
  "cells": [
    {
      "cell_type": "code",
      "metadata": {
        "id": "pXHHsTQ5FmQb"
      },
      "source": [
        "# Initial scraping approach implemented at https://github.com/israel-dryer/Indeed-Job-Scraper/blob/master/indeed-tutorial.ipynb\n",
        "import csv\n",
        "from datetime import datetime\n",
        "import requests\n",
        "from bs4 import BeautifulSoup"
      ],
      "execution_count": 1,
      "outputs": []
    },
    {
      "cell_type": "markdown",
      "metadata": {
        "id": "MeZ23nU_K5Af"
      },
      "source": [
        "# Exploring indeed.com page elements"
      ]
    },
    {
      "cell_type": "code",
      "metadata": {
        "id": "QPWgyA0_F7rF"
      },
      "source": [
        "def get_url(position, location):\n",
        "  \"\"\"Generate a url  from position and location \"\"\"\n",
        "  template = \"https://www.indeed.com/jobs?q={}&l={}\"\n",
        "  url = template.format(position, location)\n",
        "  return url"
      ],
      "execution_count": 2,
      "outputs": []
    },
    {
      "cell_type": "code",
      "metadata": {
        "id": "jTUDupxmGjY-"
      },
      "source": [
        "url = get_url('data scientist', 'bentonville ar')"
      ],
      "execution_count": 3,
      "outputs": []
    },
    {
      "cell_type": "code",
      "metadata": {
        "id": "X-E5JK5izgSw"
      },
      "source": [
        "response = requests.get(url)"
      ],
      "execution_count": 4,
      "outputs": []
    },
    {
      "cell_type": "code",
      "metadata": {
        "colab": {
          "base_uri": "https://localhost:8080/"
        },
        "id": "lP8DtoR0zmf8",
        "outputId": "b7f77b00-dd4b-4346-ab32-217f23d385fe"
      },
      "source": [
        "response"
      ],
      "execution_count": 5,
      "outputs": [
        {
          "output_type": "execute_result",
          "data": {
            "text/plain": [
              "<Response [200]>"
            ]
          },
          "metadata": {},
          "execution_count": 5
        }
      ]
    },
    {
      "cell_type": "code",
      "metadata": {
        "colab": {
          "base_uri": "https://localhost:8080/",
          "height": 35
        },
        "id": "uOioS8uDzsmC",
        "outputId": "dec60acd-d18f-4a43-8b89-da7ab946ef5e"
      },
      "source": [
        "response.reason"
      ],
      "execution_count": 6,
      "outputs": [
        {
          "output_type": "execute_result",
          "data": {
            "text/plain": [
              "''"
            ]
          },
          "metadata": {},
          "execution_count": 6
        }
      ]
    },
    {
      "cell_type": "code",
      "metadata": {
        "id": "NA37XV3I0Aqo"
      },
      "source": [
        "soup = BeautifulSoup(response.text, 'html.parser')"
      ],
      "execution_count": 7,
      "outputs": []
    },
    {
      "cell_type": "code",
      "metadata": {
        "id": "HkdPsL6f0ejw"
      },
      "source": [
        "cards = soup.find_all('div', 'jobsearch-SerpJobCard')"
      ],
      "execution_count": 9,
      "outputs": []
    },
    {
      "cell_type": "code",
      "metadata": {
        "colab": {
          "base_uri": "https://localhost:8080/"
        },
        "id": "cSiQYaCm0uFA",
        "outputId": "4303119c-c57a-4a66-b988-cd681233e2a4"
      },
      "source": [
        "len(cards)"
      ],
      "execution_count": 10,
      "outputs": [
        {
          "output_type": "execute_result",
          "data": {
            "text/plain": [
              "15"
            ]
          },
          "metadata": {},
          "execution_count": 10
        }
      ]
    },
    {
      "cell_type": "code",
      "metadata": {
        "id": "ZOqSetuf0ym4"
      },
      "source": [
        "card = cards[0]"
      ],
      "execution_count": 11,
      "outputs": []
    },
    {
      "cell_type": "code",
      "metadata": {
        "id": "Y-A8f0Q33J_p"
      },
      "source": [
        "atag = card.h2.a"
      ],
      "execution_count": 12,
      "outputs": []
    },
    {
      "cell_type": "code",
      "metadata": {
        "id": "OKrJW_pU31zL"
      },
      "source": [
        "job_title = atag.get('title')"
      ],
      "execution_count": 13,
      "outputs": []
    },
    {
      "cell_type": "code",
      "metadata": {
        "id": "R90AyG9q4AtV"
      },
      "source": [
        "job_url = 'https://www.indeed.com' + atag.get('href')"
      ],
      "execution_count": 14,
      "outputs": []
    },
    {
      "cell_type": "code",
      "metadata": {
        "id": "vU1YJB-T4btm"
      },
      "source": [
        "company = card.find('span', 'company').text.strip()"
      ],
      "execution_count": 15,
      "outputs": []
    },
    {
      "cell_type": "code",
      "metadata": {
        "id": "QDPucGwP4irL"
      },
      "source": [
        "job_location = card.find('div', 'recJobLoc').get('data-rc-loc')"
      ],
      "execution_count": 16,
      "outputs": []
    },
    {
      "cell_type": "code",
      "metadata": {
        "id": "ly81SX2Z6L6G"
      },
      "source": [
        "summary = card.find('div', 'summary').text.strip()"
      ],
      "execution_count": 17,
      "outputs": []
    },
    {
      "cell_type": "code",
      "metadata": {
        "id": "Xpbsj3RB6cUq"
      },
      "source": [
        "date = card.find('span', 'date').text"
      ],
      "execution_count": 18,
      "outputs": []
    },
    {
      "cell_type": "code",
      "metadata": {
        "id": "EB4k-gky6v-r"
      },
      "source": [
        "today = datetime.today().strftime('%Y-%m-%d')"
      ],
      "execution_count": 19,
      "outputs": []
    },
    {
      "cell_type": "code",
      "metadata": {
        "id": "3a-v_FHL-Eml"
      },
      "source": [
        "try: \n",
        "  card.find('span', 'salarText').text.strip()\n",
        "except AttributeError:\n",
        "  job_salary = '' "
      ],
      "execution_count": 20,
      "outputs": []
    },
    {
      "cell_type": "markdown",
      "metadata": {
        "id": "_xlgMoejK07X"
      },
      "source": [
        "# Generalizing the model"
      ]
    },
    {
      "cell_type": "code",
      "metadata": {
        "id": "XEa_1OiO-TOr"
      },
      "source": [
        "def get_record(card):\n",
        "  atag = card.h2.a\n",
        "  job_title = atag.get('title')\n",
        "  job_url = 'https://www.indeed.com' + atag.get('href')\n",
        "  company = card.find('span', 'company').text.strip()\n",
        "  job_location = card.find('div', 'recJobLoc').get('data-rc-loc')\n",
        "  job_summary = card.find('div', 'summary').text.strip()\n",
        "  post_date = card.find('span', 'date').text\n",
        "  today = datetime.today().strftime('%Y-%m-%d')\n",
        "  try: \n",
        "    card.find('span', 'salarText').text.strip()\n",
        "  except AttributeError:\n",
        "    job_salary = '' \n",
        "  \n",
        "  record = {job_title, company, job_location, post_date, today, job_summary, job_salary, job_url}\n",
        "\n",
        "  return record"
      ],
      "execution_count": 21,
      "outputs": []
    },
    {
      "cell_type": "code",
      "metadata": {
        "id": "FbiPHTVjJXWt"
      },
      "source": [
        "records = []\n",
        "\n",
        "for card in cards: \n",
        "  record = get_record(card)\n",
        "  records.append(record)"
      ],
      "execution_count": 22,
      "outputs": []
    },
    {
      "cell_type": "code",
      "metadata": {
        "colab": {
          "base_uri": "https://localhost:8080/"
        },
        "id": "p0EppgNHJiEi",
        "outputId": "76bad6fb-882e-4259-d409-e839de504890"
      },
      "source": [
        "records[0]"
      ],
      "execution_count": 212,
      "outputs": [
        {
          "output_type": "execute_result",
          "data": {
            "text/plain": [
              "{'',\n",
              " '2021-03-26',\n",
              " '30+ days ago',\n",
              " 'A successful candidate will manage data science projects including scoping, designing, and executing the vision with the help of more junior data scientists /…',\n",
              " 'Lead Data Scientist',\n",
              " 'TRANZACT',\n",
              " 'United States',\n",
              " 'https://www.indeed.com/pagead/clk?mo=r&ad=-6NYlbfkN0DmvEs89GDjygIsDT0FtjWiil-qnA5TS0Npqc8I6T5HHPj1qJcB6ts2RC9U8mqwlH31VRyGgFTjuk6MDSQy9dlxHVsLO1FyLeaovTNDU0XCRmuZoptVyQ-71WeG21w73lkklPyJrRMYwYxr_-SpOcX4VcXq5o9hFdkEJ6YMkrQ-SFzGNTaQyCYYYPfdK6oMPeezYlV4gc8rXJAmU2-2RXBUFuc8ZuyTblvBUnhWwM92fTiyRe8-tYKNKVryJzixYYCvIFPCD9n55YgD0T8WAaZLjFxPGDchk_ju8RA2YX1QwdAl7k-Hr8zrzaVqoJfwjZbju5u65fojTr-cNoLsygZWsnPCUdhcw3R1yMNp6isnyHb-DH-hrp_dNKDD4PhQq2-lN14O0RoCNq2811yThejlJ5D4Jryqk1nemMfvfvS1_3IR8aVecl1xn40KWM440BMTZyHjQLppJ-MH8JCuREJB&p=0&fvj=1&vjs=3'}"
            ]
          },
          "metadata": {
            "tags": []
          },
          "execution_count": 212
        }
      ]
    },
    {
      "cell_type": "markdown",
      "metadata": {
        "id": "_c_e_kTGKwY7"
      },
      "source": [
        "# Getting every page"
      ]
    },
    {
      "cell_type": "code",
      "metadata": {
        "id": "s3Sg3DaWJ5Nn"
      },
      "source": [
        "while True: \n",
        "  try: \n",
        "    url = 'https://www.indeed.com' + soup.find('a', {'aria-label': 'Next'}).get('href')\n",
        "  except AttributeError:\n",
        "    break\n",
        "\n",
        "  response = requests.get(url)\n",
        "  soup = BeautifulSoup(response.text, 'html.parser')\n",
        "  cards = soup.find_all('div', 'jobsearch-SerpJobCard')\n",
        "\n",
        "  for card in cards:\n",
        "    record = get_record(card)\n",
        "    records.append(record)"
      ],
      "execution_count": 23,
      "outputs": []
    },
    {
      "cell_type": "markdown",
      "metadata": {
        "id": "c88Kp4lNMdKt"
      },
      "source": [
        "# Putting it all together"
      ]
    },
    {
      "cell_type": "code",
      "metadata": {
        "id": "hyIziR2bMa4N"
      },
      "source": [
        "def get_url(position, location):\n",
        "    \"\"\"Generate url from position and location\"\"\"\n",
        "    template = 'https://www.indeed.com/jobs?q={}&l={}'\n",
        "    position = position.replace(' ', '+')\n",
        "    location = location.replace(' ', '+')\n",
        "    url = template.format(position, location)\n",
        "    return url\n",
        "\n",
        "\n",
        "def get_record(card):\n",
        "    \"\"\"Extract job data from a single record\"\"\"\n",
        "    \n",
        "    job_title = card.h2.a.get('title')\n",
        "    company = card.find('span', 'company').text.strip()\n",
        "    job_location = card.find('div', 'recJobLoc').get('data-rc-loc')\n",
        "    post_date = card.find('span', 'date').text\n",
        "    today = datetime.today().strftime('%Y-%m-%d')\n",
        "    summary = card.find('div', 'summary').text.strip().replace('\\n', ' ')\n",
        "    job_url = 'https://www.indeed.com' + card.h2.a.get('href')\n",
        "\n",
        "    # this does not exists for all jobs, so handle the exceptions\n",
        "    salary_tag = card.find('span', 'salaryText')\n",
        "    if salary_tag:\n",
        "        salary = salary_tag.text.strip()\n",
        "    else:\n",
        "        salary = ''  \n",
        "        \n",
        "    record = (job_title, company, job_location, post_date, today, summary, salary, job_url)\n",
        "    return record\n",
        "\n",
        "\n",
        "def main(position, location):\n",
        "    \"\"\"Run the main program routine\"\"\"\n",
        "    records = []\n",
        "    url = get_url(position, location)\n",
        "    \n",
        "    # extract the job data\n",
        "    while True:\n",
        "        response = requests.get(url)\n",
        "        soup = BeautifulSoup(response.text, 'html.parser')\n",
        "        cards = soup.find_all('div', 'jobsearch-SerpJobCard')\n",
        "        for card in cards:\n",
        "            record = get_record(card)\n",
        "            records.append(record)\n",
        "        try:\n",
        "            url = 'https://www.indeed.com' + soup.find('a', {'aria-label': 'Next'}).get('href')\n",
        "        except AttributeError:\n",
        "            break\n",
        "        \n",
        "    # save the job data\n",
        "    with open('results.csv', 'w', newline='', encoding='utf-8') as f:\n",
        "        writer = csv.writer(f)\n",
        "        writer.writerow(['JobTitle', 'Company', 'Location', 'PostDate', 'ExtractDate', 'Summary', 'Salary', 'JobUrl'])\n",
        "        writer.writerows(records)"
      ],
      "execution_count": 24,
      "outputs": []
    },
    {
      "cell_type": "code",
      "metadata": {
        "id": "OxhdlNbCOKX6"
      },
      "source": [
        "main('data scientist', 'bentonville, ar')"
      ],
      "execution_count": 25,
      "outputs": []
    },
    {
      "cell_type": "code",
      "metadata": {
        "id": "Nci2epJnOMO1"
      },
      "source": [
        "import pandas as pd"
      ],
      "execution_count": 26,
      "outputs": []
    },
    {
      "cell_type": "code",
      "metadata": {
        "id": "zetfSIDQicrd"
      },
      "source": [
        "df = pd.read_csv('results.csv')"
      ],
      "execution_count": 30,
      "outputs": []
    },
    {
      "cell_type": "code",
      "metadata": {
        "colab": {
          "base_uri": "https://localhost:8080/",
          "height": 902
        },
        "id": "rJbhL7L6is3J",
        "outputId": "f50b0b99-ddec-4667-9f48-a935b31cd4f5"
      },
      "source": [
        "df.head(1000)"
      ],
      "execution_count": 31,
      "outputs": [
        {
          "output_type": "execute_result",
          "data": {
            "text/plain": [
              "                                             JobTitle  \\\n",
              "0                                 Lead Data Scientist   \n",
              "1                                      Data Scientist   \n",
              "2                                   Data Scientist II   \n",
              "3                               Senior Data Scientist   \n",
              "4                               Senior Data Scientist   \n",
              "5                               Senior Data Scientist   \n",
              "6                       Division Data Science Analyst   \n",
              "7                   Senior Data Scientist- Sam's Club   \n",
              "8           Data Scientist - Nationwide Opportunities   \n",
              "9                                 Senior Data Analyst   \n",
              "10  Staff Data Scientist - Computer Vision (Store ...   \n",
              "11                     (USA) Principal Data Scientist   \n",
              "12              Solution Architect - Data & Analytics   \n",
              "13                                Senior Data Analyst   \n",
              "14  Software Engineer III - Tech (Machine Learning...   \n",
              "15  (USA) Principal Data Scientist - Machine Learn...   \n",
              "16                             Sr. Data & ML Engineer   \n",
              "17   Senior Data Scientist - Nationwide Opportunities   \n",
              "18                 Principal Data Scientist, ProServe   \n",
              "\n",
              "                      Company          Location           PostDate  \\\n",
              "0                    TRANZACT     United States  Active 7 days ago   \n",
              "1                     Walmart   Bentonville, AR        13 days ago   \n",
              "2                     JB Hunt        Lowell, AR       30+ days ago   \n",
              "3           Tyson Foods, Inc.    Springdale, AR         8 days ago   \n",
              "4         REPL Consulting Inc   Bentonville, AR       30+ days ago   \n",
              "5                     Walmart   Bentonville, AR        Just posted   \n",
              "6                      Arvest   Bentonville, AR         8 days ago   \n",
              "7                  Sam's Club   Bentonville, AR         2 days ago   \n",
              "8   Amazon Web Services, Inc.  Fayetteville, AR       30+ days ago   \n",
              "9         UAMS Medical Center  Fayetteville, AR       30+ days ago   \n",
              "10                Store No. 8   Bentonville, AR         9 days ago   \n",
              "11                    Walmart   Bentonville, AR        20 days ago   \n",
              "12                   Deloitte   Bentonville, AR       30+ days ago   \n",
              "13                    Walmart   Bentonville, AR       30+ days ago   \n",
              "14                    Walmart   Bentonville, AR       30+ days ago   \n",
              "15                    Walmart   Bentonville, AR        15 days ago   \n",
              "16  Amazon Web Services, Inc.  Fayetteville, AR       30+ days ago   \n",
              "17  Amazon Web Services, Inc.  Fayetteville, AR       30+ days ago   \n",
              "18  Amazon Web Services, Inc.  Fayetteville, AR       30+ days ago   \n",
              "\n",
              "   ExtractDate                                            Summary  \\\n",
              "0   2021-03-26  A successful candidate will manage data scienc...   \n",
              "1   2021-03-26  Data science, machine learning, optimization m...   \n",
              "2   2021-03-26  Assists in analytics project scoping discussio...   \n",
              "3   2021-03-26  We are seeking experienced members to join the...   \n",
              "4   2021-03-26  Strong related academic background i.e. Master...   \n",
              "5   2021-03-26  Certificates earned in data mining, machine le...   \n",
              "6   2021-03-26  Utilizes data discovery, diagnostic, predicati...   \n",
              "7   2021-03-26  You will use advanced analytics techniques to ...   \n",
              "8   2021-03-26  Experience in an ML engineer or data scientist...   \n",
              "9   2021-03-26  Master Degree in a relevant field such as scie...   \n",
              "10  2021-03-26  Option 3: 6 years' experience in an analytics ...   \n",
              "11  2021-03-26  Develops newer techniques (for example, advanc...   \n",
              "12  2021-03-26  Strong understanding of data modeling and data...   \n",
              "13  2021-03-26  The Senior Data Analyst partners with customer...   \n",
              "14  2021-03-26  Understands and translates business and functi...   \n",
              "15  2021-03-26  Develops newer techniques (for example, advanc...   \n",
              "16  2021-03-26  Hands on experience working on large-scale dat...   \n",
              "17  2021-03-26  Experience in an ML engineer or data scientist...   \n",
              "18  2021-03-26  Experience in an ML engineer or data scientist...   \n",
              "\n",
              "                        Salary  \\\n",
              "0   $150,000 - $165,000 a year   \n",
              "1                          NaN   \n",
              "2                          NaN   \n",
              "3                          NaN   \n",
              "4                          NaN   \n",
              "5                          NaN   \n",
              "6                          NaN   \n",
              "7                          NaN   \n",
              "8                          NaN   \n",
              "9                          NaN   \n",
              "10                         NaN   \n",
              "11                         NaN   \n",
              "12                         NaN   \n",
              "13                         NaN   \n",
              "14                         NaN   \n",
              "15                         NaN   \n",
              "16                         NaN   \n",
              "17                         NaN   \n",
              "18                         NaN   \n",
              "\n",
              "                                               JobUrl  \n",
              "0   https://www.indeed.com/pagead/clk?mo=r&ad=-6NY...  \n",
              "1   https://www.indeed.com/rc/clk?jk=106b31ad1f6f0...  \n",
              "2   https://www.indeed.com/rc/clk?jk=ddace5a665cbc...  \n",
              "3   https://www.indeed.com/rc/clk?jk=a1ceb152e0e8a...  \n",
              "4   https://www.indeed.com/rc/clk?jk=52bc7adf99bc4...  \n",
              "5   https://www.indeed.com/rc/clk?jk=2a7b0fd5433e0...  \n",
              "6   https://www.indeed.com/rc/clk?jk=9c4d4e7884bf3...  \n",
              "7   https://www.indeed.com/rc/clk?jk=fd56b421f1df7...  \n",
              "8   https://www.indeed.com/rc/clk?jk=b60071419fecb...  \n",
              "9   https://www.indeed.com/rc/clk?jk=bcdafbc670093...  \n",
              "10  https://www.indeed.com/rc/clk?jk=1d8a96ed2f9ad...  \n",
              "11  https://www.indeed.com/rc/clk?jk=84eb5d0931885...  \n",
              "12  https://www.indeed.com/rc/clk?jk=93c35bf5141a9...  \n",
              "13  https://www.indeed.com/rc/clk?jk=54e0d0e690f44...  \n",
              "14  https://www.indeed.com/rc/clk?jk=af8d89cfec510...  \n",
              "15  https://www.indeed.com/rc/clk?jk=cdbcb2303e7d3...  \n",
              "16  https://www.indeed.com/rc/clk?jk=baa9021110577...  \n",
              "17  https://www.indeed.com/rc/clk?jk=bce5459cd7f29...  \n",
              "18  https://www.indeed.com/rc/clk?jk=b44a20da9ffe3...  "
            ],
            "text/html": "<div>\n<style scoped>\n    .dataframe tbody tr th:only-of-type {\n        vertical-align: middle;\n    }\n\n    .dataframe tbody tr th {\n        vertical-align: top;\n    }\n\n    .dataframe thead th {\n        text-align: right;\n    }\n</style>\n<table border=\"1\" class=\"dataframe\">\n  <thead>\n    <tr style=\"text-align: right;\">\n      <th></th>\n      <th>JobTitle</th>\n      <th>Company</th>\n      <th>Location</th>\n      <th>PostDate</th>\n      <th>ExtractDate</th>\n      <th>Summary</th>\n      <th>Salary</th>\n      <th>JobUrl</th>\n    </tr>\n  </thead>\n  <tbody>\n    <tr>\n      <th>0</th>\n      <td>Lead Data Scientist</td>\n      <td>TRANZACT</td>\n      <td>United States</td>\n      <td>Active 7 days ago</td>\n      <td>2021-03-26</td>\n      <td>A successful candidate will manage data scienc...</td>\n      <td>$150,000 - $165,000 a year</td>\n      <td>https://www.indeed.com/pagead/clk?mo=r&amp;ad=-6NY...</td>\n    </tr>\n    <tr>\n      <th>1</th>\n      <td>Data Scientist</td>\n      <td>Walmart</td>\n      <td>Bentonville, AR</td>\n      <td>13 days ago</td>\n      <td>2021-03-26</td>\n      <td>Data science, machine learning, optimization m...</td>\n      <td>NaN</td>\n      <td>https://www.indeed.com/rc/clk?jk=106b31ad1f6f0...</td>\n    </tr>\n    <tr>\n      <th>2</th>\n      <td>Data Scientist II</td>\n      <td>JB Hunt</td>\n      <td>Lowell, AR</td>\n      <td>30+ days ago</td>\n      <td>2021-03-26</td>\n      <td>Assists in analytics project scoping discussio...</td>\n      <td>NaN</td>\n      <td>https://www.indeed.com/rc/clk?jk=ddace5a665cbc...</td>\n    </tr>\n    <tr>\n      <th>3</th>\n      <td>Senior Data Scientist</td>\n      <td>Tyson Foods, Inc.</td>\n      <td>Springdale, AR</td>\n      <td>8 days ago</td>\n      <td>2021-03-26</td>\n      <td>We are seeking experienced members to join the...</td>\n      <td>NaN</td>\n      <td>https://www.indeed.com/rc/clk?jk=a1ceb152e0e8a...</td>\n    </tr>\n    <tr>\n      <th>4</th>\n      <td>Senior Data Scientist</td>\n      <td>REPL Consulting Inc</td>\n      <td>Bentonville, AR</td>\n      <td>30+ days ago</td>\n      <td>2021-03-26</td>\n      <td>Strong related academic background i.e. Master...</td>\n      <td>NaN</td>\n      <td>https://www.indeed.com/rc/clk?jk=52bc7adf99bc4...</td>\n    </tr>\n    <tr>\n      <th>5</th>\n      <td>Senior Data Scientist</td>\n      <td>Walmart</td>\n      <td>Bentonville, AR</td>\n      <td>Just posted</td>\n      <td>2021-03-26</td>\n      <td>Certificates earned in data mining, machine le...</td>\n      <td>NaN</td>\n      <td>https://www.indeed.com/rc/clk?jk=2a7b0fd5433e0...</td>\n    </tr>\n    <tr>\n      <th>6</th>\n      <td>Division Data Science Analyst</td>\n      <td>Arvest</td>\n      <td>Bentonville, AR</td>\n      <td>8 days ago</td>\n      <td>2021-03-26</td>\n      <td>Utilizes data discovery, diagnostic, predicati...</td>\n      <td>NaN</td>\n      <td>https://www.indeed.com/rc/clk?jk=9c4d4e7884bf3...</td>\n    </tr>\n    <tr>\n      <th>7</th>\n      <td>Senior Data Scientist- Sam's Club</td>\n      <td>Sam's Club</td>\n      <td>Bentonville, AR</td>\n      <td>2 days ago</td>\n      <td>2021-03-26</td>\n      <td>You will use advanced analytics techniques to ...</td>\n      <td>NaN</td>\n      <td>https://www.indeed.com/rc/clk?jk=fd56b421f1df7...</td>\n    </tr>\n    <tr>\n      <th>8</th>\n      <td>Data Scientist - Nationwide Opportunities</td>\n      <td>Amazon Web Services, Inc.</td>\n      <td>Fayetteville, AR</td>\n      <td>30+ days ago</td>\n      <td>2021-03-26</td>\n      <td>Experience in an ML engineer or data scientist...</td>\n      <td>NaN</td>\n      <td>https://www.indeed.com/rc/clk?jk=b60071419fecb...</td>\n    </tr>\n    <tr>\n      <th>9</th>\n      <td>Senior Data Analyst</td>\n      <td>UAMS Medical Center</td>\n      <td>Fayetteville, AR</td>\n      <td>30+ days ago</td>\n      <td>2021-03-26</td>\n      <td>Master Degree in a relevant field such as scie...</td>\n      <td>NaN</td>\n      <td>https://www.indeed.com/rc/clk?jk=bcdafbc670093...</td>\n    </tr>\n    <tr>\n      <th>10</th>\n      <td>Staff Data Scientist - Computer Vision (Store ...</td>\n      <td>Store No. 8</td>\n      <td>Bentonville, AR</td>\n      <td>9 days ago</td>\n      <td>2021-03-26</td>\n      <td>Option 3: 6 years' experience in an analytics ...</td>\n      <td>NaN</td>\n      <td>https://www.indeed.com/rc/clk?jk=1d8a96ed2f9ad...</td>\n    </tr>\n    <tr>\n      <th>11</th>\n      <td>(USA) Principal Data Scientist</td>\n      <td>Walmart</td>\n      <td>Bentonville, AR</td>\n      <td>20 days ago</td>\n      <td>2021-03-26</td>\n      <td>Develops newer techniques (for example, advanc...</td>\n      <td>NaN</td>\n      <td>https://www.indeed.com/rc/clk?jk=84eb5d0931885...</td>\n    </tr>\n    <tr>\n      <th>12</th>\n      <td>Solution Architect - Data &amp; Analytics</td>\n      <td>Deloitte</td>\n      <td>Bentonville, AR</td>\n      <td>30+ days ago</td>\n      <td>2021-03-26</td>\n      <td>Strong understanding of data modeling and data...</td>\n      <td>NaN</td>\n      <td>https://www.indeed.com/rc/clk?jk=93c35bf5141a9...</td>\n    </tr>\n    <tr>\n      <th>13</th>\n      <td>Senior Data Analyst</td>\n      <td>Walmart</td>\n      <td>Bentonville, AR</td>\n      <td>30+ days ago</td>\n      <td>2021-03-26</td>\n      <td>The Senior Data Analyst partners with customer...</td>\n      <td>NaN</td>\n      <td>https://www.indeed.com/rc/clk?jk=54e0d0e690f44...</td>\n    </tr>\n    <tr>\n      <th>14</th>\n      <td>Software Engineer III - Tech (Machine Learning...</td>\n      <td>Walmart</td>\n      <td>Bentonville, AR</td>\n      <td>30+ days ago</td>\n      <td>2021-03-26</td>\n      <td>Understands and translates business and functi...</td>\n      <td>NaN</td>\n      <td>https://www.indeed.com/rc/clk?jk=af8d89cfec510...</td>\n    </tr>\n    <tr>\n      <th>15</th>\n      <td>(USA) Principal Data Scientist - Machine Learn...</td>\n      <td>Walmart</td>\n      <td>Bentonville, AR</td>\n      <td>15 days ago</td>\n      <td>2021-03-26</td>\n      <td>Develops newer techniques (for example, advanc...</td>\n      <td>NaN</td>\n      <td>https://www.indeed.com/rc/clk?jk=cdbcb2303e7d3...</td>\n    </tr>\n    <tr>\n      <th>16</th>\n      <td>Sr. Data &amp; ML Engineer</td>\n      <td>Amazon Web Services, Inc.</td>\n      <td>Fayetteville, AR</td>\n      <td>30+ days ago</td>\n      <td>2021-03-26</td>\n      <td>Hands on experience working on large-scale dat...</td>\n      <td>NaN</td>\n      <td>https://www.indeed.com/rc/clk?jk=baa9021110577...</td>\n    </tr>\n    <tr>\n      <th>17</th>\n      <td>Senior Data Scientist - Nationwide Opportunities</td>\n      <td>Amazon Web Services, Inc.</td>\n      <td>Fayetteville, AR</td>\n      <td>30+ days ago</td>\n      <td>2021-03-26</td>\n      <td>Experience in an ML engineer or data scientist...</td>\n      <td>NaN</td>\n      <td>https://www.indeed.com/rc/clk?jk=bce5459cd7f29...</td>\n    </tr>\n    <tr>\n      <th>18</th>\n      <td>Principal Data Scientist, ProServe</td>\n      <td>Amazon Web Services, Inc.</td>\n      <td>Fayetteville, AR</td>\n      <td>30+ days ago</td>\n      <td>2021-03-26</td>\n      <td>Experience in an ML engineer or data scientist...</td>\n      <td>NaN</td>\n      <td>https://www.indeed.com/rc/clk?jk=b44a20da9ffe3...</td>\n    </tr>\n  </tbody>\n</table>\n</div>"
          },
          "metadata": {},
          "execution_count": 31
        }
      ]
    }
  ]
}